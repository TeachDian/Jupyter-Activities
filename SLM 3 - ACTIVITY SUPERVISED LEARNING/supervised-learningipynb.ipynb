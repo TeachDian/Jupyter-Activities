{
 "cells": [
  {
   "cell_type": "code",
   "execution_count": null,
   "metadata": {},
   "outputs": [],
   "source": [
    "import pandas as pd \n",
    "df = pd.read_csv(\"apple_quality.csv\") \n",
    "df.head() \n",
    "target = df.label \n",
    "inputs = df.drop('label', axis='columns') \n",
    "inputs.columns[inputs.isna().any()] \n",
    "from sklearn.model_selection import train_test_split \n",
    "X_train, X_test, y_train, y_test = \n",
    "train_test_split(inputs,target,test_size=0.2) \n",
    "len(X_train) \n",
    "len(X_test) \n",
    "len(inputs)\n",
    "from sklearn.naive_bayes import GaussianNB \n",
    "model = GaussianNB() \n",
    "model.fit(X_train, y_train) \n",
    "model.score(X_test,y_test) \n",
    "X_test[:10] \n",
    "y_test[:10] \n",
    "model.predict(X_test[:10]) \n",
    "model.predict_proba(X_test[:10])"
   ]
  }
 ],
 "metadata": {
  "kernelspec": {
   "display_name": "Python 3",
   "language": "python",
   "name": "python3"
  },
  "language_info": {
   "name": "python",
   "version": "3.12.2"
  }
 },
 "nbformat": 4,
 "nbformat_minor": 2
}
