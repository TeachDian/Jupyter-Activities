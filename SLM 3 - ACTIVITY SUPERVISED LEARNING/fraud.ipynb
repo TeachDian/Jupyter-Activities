{
 "cells": [
  {
   "cell_type": "code",
   "execution_count": 1,
   "metadata": {},
   "outputs": [],
   "source": [
    "# Data manipulation and visualization imports\n",
    "import pandas as pd\n",
    "import matplotlib.pyplot as plt\n",
    "import seaborn as sns\n",
    "\n",
    "# Set plotting size and style\n",
    "sns.set(rc = {'figure.figsize':(15, 8)})\n",
    "sns.set_style(\"darkgrid\")\n",
    "\n",
    "# Preprocessing imports\n",
    "from sklearn.model_selection import train_test_split\n",
    "\n",
    "# Create a function to plot resampled data\n",
    "def plot_resample(X, y, X_res, y_res, method):    \n",
    "    # Create subplots\n",
    "    fig, axes = plt.subplot_mosaic([['a', 'b'], ['c', 'd']])\n",
    "\t# Generate scatterplots of first two features for inspection\n",
    "    sns.scatterplot(x=X.iloc[y.values == 0, 0], y=X.iloc[y.values == 0, 1], alpha=0.10, ax=axes['a'])\n",
    "    sns.scatterplot(x=X.iloc[y.values == 1, 0], y=X.iloc[y.values == 1, 1], alpha=0.10, ax=axes['a'])\n",
    "    sns.scatterplot(x=X_res.iloc[y_res.values == 0, 0], y=X_res.iloc[y_res.values == 0, 1], alpha=0.10, ax=axes['b'])\n",
    "    sns.scatterplot(x=X_res.iloc[y_res.values == 1, 0], y=X_res.iloc[y_res.values == 1, 1], alpha=0.10, ax=axes['b'])\n",
    "    sns.countplot(y=y, ax=axes['c'])\n",
    "    sns.countplot(y=y_res, ax=axes['d'])\n",
    "    # Set titles and show plot\n",
    "    plt.suptitle(method + ' Outcomes')\n",
    "    axes['a'].title.set_text('Original Data')\n",
    "    axes['b'].title.set_text(method + ' Data')\n",
    "    axes['c'].title.set_text('Original Class Proportions')\n",
    "    axes['d'].title.set_text(method + ' Class Proportions')\n",
    "    plt.tight_layout()\n",
    "    plt.show()"
   ]
  },
  {
   "cell_type": "code",
   "execution_count": null,
   "metadata": {},
   "outputs": [],
   "source": [
    "# Import the data (add your own file here)\n",
    "df = pd.read_csv(\"fraud.csv\")\n",
    "\n",
    "# Preview the data\n",
    "df"
   ]
  }
 ],
 "metadata": {
  "kernelspec": {
   "display_name": "Python 3",
   "language": "python",
   "name": "python3"
  },
  "language_info": {
   "codemirror_mode": {
    "name": "ipython",
    "version": 3
   },
   "file_extension": ".py",
   "mimetype": "text/x-python",
   "name": "python",
   "nbconvert_exporter": "python",
   "pygments_lexer": "ipython3",
   "version": "3.12.2"
  }
 },
 "nbformat": 4,
 "nbformat_minor": 2
}
