{
 "cells": [
  {
   "cell_type": "code",
   "execution_count": 1,
   "metadata": {},
   "outputs": [
    {
     "data": {
      "text/html": [
       "<div>\n",
       "<style scoped>\n",
       "    .dataframe tbody tr th:only-of-type {\n",
       "        vertical-align: middle;\n",
       "    }\n",
       "\n",
       "    .dataframe tbody tr th {\n",
       "        vertical-align: top;\n",
       "    }\n",
       "\n",
       "    .dataframe thead th {\n",
       "        text-align: right;\n",
       "    }\n",
       "</style>\n",
       "<table border=\"1\" class=\"dataframe\">\n",
       "  <thead>\n",
       "    <tr style=\"text-align: right;\">\n",
       "      <th></th>\n",
       "      <th>Composer</th>\n",
       "      <th>Nationality</th>\n",
       "      <th>Born</th>\n",
       "      <th>Died($)</th>\n",
       "      <th>Biggest Piece</th>\n",
       "      <th>Duration of Biggest Piece(mins)</th>\n",
       "    </tr>\n",
       "  </thead>\n",
       "  <tbody>\n",
       "    <tr>\n",
       "      <th>0</th>\n",
       "      <td>Ludwig van Beethoven</td>\n",
       "      <td>German</td>\n",
       "      <td>1770</td>\n",
       "      <td>1791</td>\n",
       "      <td>Symphony No. 9</td>\n",
       "      <td>65.0</td>\n",
       "    </tr>\n",
       "    <tr>\n",
       "      <th>1</th>\n",
       "      <td>Wolfgang Amadeus Mozart</td>\n",
       "      <td>Austrian</td>\n",
       "      <td>1756</td>\n",
       "      <td>1791</td>\n",
       "      <td>Symphony No.41</td>\n",
       "      <td>33.0</td>\n",
       "    </tr>\n",
       "    <tr>\n",
       "      <th>2</th>\n",
       "      <td>Johann Sebastian Bach</td>\n",
       "      <td>German</td>\n",
       "      <td>1685</td>\n",
       "      <td>1750</td>\n",
       "      <td>Mass in B minor</td>\n",
       "      <td>125.0</td>\n",
       "    </tr>\n",
       "    <tr>\n",
       "      <th>3</th>\n",
       "      <td>Richard Wagner</td>\n",
       "      <td>German</td>\n",
       "      <td>1813</td>\n",
       "      <td>1883</td>\n",
       "      <td>Der Ring des Nibelungen</td>\n",
       "      <td>NaN</td>\n",
       "    </tr>\n",
       "    <tr>\n",
       "      <th>4</th>\n",
       "      <td>Joseph Haydn</td>\n",
       "      <td>Austrian</td>\n",
       "      <td>1732</td>\n",
       "      <td>1809</td>\n",
       "      <td>Symphony No. 45</td>\n",
       "      <td>25.0</td>\n",
       "    </tr>\n",
       "  </tbody>\n",
       "</table>\n",
       "</div>"
      ],
      "text/plain": [
       "                   Composer   Nationality    Born  Died($)  \\\n",
       "0      Ludwig van Beethoven      German      1770     1791   \n",
       "1  Wolfgang Amadeus Mozart        Austrian   1756     1791   \n",
       "2    Johann Sebastian Bach       German      1685     1750   \n",
       "3            Richard Wagner      German      1813     1883   \n",
       "4             Joseph Haydn        Austrian   1732     1809   \n",
       "\n",
       "             Biggest Piece  Duration of Biggest Piece(mins)  \n",
       "0        Symphony No. 9                                65.0  \n",
       "1           Symphony No.41                             33.0  \n",
       "2          Mass in B minor                            125.0  \n",
       "3  Der Ring des Nibelungen                              NaN  \n",
       "4          Symphony No. 45                             25.0  "
      ]
     },
     "execution_count": 1,
     "metadata": {},
     "output_type": "execute_result"
    }
   ],
   "source": [
    "from sklearn.cluster import KMeans \n",
    "import pandas as pd \n",
    "from sklearn.preprocessing import MinMaxScaler \n",
    "from matplotlib import pyplot as plt \n",
    "%matplotlib inline \n",
    "df = pd.read_csv(\"classical_composers.csv\")\n",
    "df.head()"
   ]
  },
  {
   "cell_type": "code",
   "execution_count": 2,
   "metadata": {},
   "outputs": [
    {
     "name": "stdout",
     "output_type": "stream",
     "text": [
      "<class 'pandas.core.frame.DataFrame'>\n",
      "RangeIndex: 100 entries, 0 to 99\n",
      "Data columns (total 6 columns):\n",
      " #   Column                           Non-Null Count  Dtype  \n",
      "---  ------                           --------------  -----  \n",
      " 0   Composer                         100 non-null    object \n",
      " 1     Nationality                    100 non-null    object \n",
      " 2    Born                            100 non-null    int64  \n",
      " 3   Died($)                          100 non-null    int64  \n",
      " 4   Biggest Piece                    100 non-null    object \n",
      " 5   Duration of Biggest Piece(mins)  64 non-null     float64\n",
      "dtypes: float64(1), int64(2), object(3)\n",
      "memory usage: 4.8+ KB\n"
     ]
    }
   ],
   "source": [
    "df.info()"
   ]
  },
  {
   "cell_type": "code",
   "execution_count": null,
   "metadata": {},
   "outputs": [],
   "source": [
    "import pandas as pd \n",
    "df = pd.read_csv(\"pima-indians-diabetes.csv\") \n",
    "df.head() \n",
    "target = df.label \n",
    "inputs = df.drop('label', axis='columns') \n",
    "inputs.columns[inputs.isna().any()] \n",
    "from sklearn.model_selection import train_test_split \n",
    "X_train, X_test, y_train, y_test = \n",
    "train_test_split(inputs,target,test_size=0.2) \n",
    "len(X_train) \n",
    "len(X_test) \n",
    "len(inputs)\n",
    "from sklearn.naive_bayes import GaussianNB \n",
    "model = GaussianNB() \n",
    "model.fit(X_train, y_train) \n",
    "model.score(X_test,y_test) \n",
    "X_test[:10] \n",
    "y_test[:10] \n",
    "model.predict(X_test[:10]) \n",
    "model.predict_proba(X_test[:10]) "
   ]
  }
 ],
 "metadata": {
  "kernelspec": {
   "display_name": "Python 3",
   "language": "python",
   "name": "python3"
  },
  "language_info": {
   "codemirror_mode": {
    "name": "ipython",
    "version": 3
   },
   "file_extension": ".py",
   "mimetype": "text/x-python",
   "name": "python",
   "nbconvert_exporter": "python",
   "pygments_lexer": "ipython3",
   "version": "3.12.2"
  }
 },
 "nbformat": 4,
 "nbformat_minor": 2
}
